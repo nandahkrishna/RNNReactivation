{
 "cells": [
  {
   "cell_type": "markdown",
   "metadata": {},
   "source": [
    "# Analyzing results for Head Direction"
   ]
  },
  {
   "cell_type": "markdown",
   "metadata": {},
   "source": [
    "## Imports and configuration"
   ]
  },
  {
   "cell_type": "code",
   "execution_count": null,
   "metadata": {},
   "outputs": [],
   "source": [
    "import json\n",
    "import matplotlib as mpl\n",
    "import matplotlib.font_manager as fm\n",
    "import matplotlib.pyplot as plt\n",
    "import numpy as np\n",
    "import os\n",
    "import pathlib\n",
    "import scipy.stats as stats\n",
    "from sklearn.decomposition import PCA\n",
    "import sys\n",
    "import torch\n",
    "\n",
    "sys.path.append(\"..\")\n",
    "\n",
    "from models import rnn\n",
    "from tasks import spatial_navigation\n",
    "import utils"
   ]
  },
  {
   "cell_type": "code",
   "execution_count": null,
   "metadata": {},
   "outputs": [],
   "source": [
    "if \"Arial\" not in fm.get_font_names():\n",
    "    font_path = pathlib.Path.home() / \"fonts\" / \"arial.ttf\"  # Set to correct path\n",
    "    fm.fontManager.addfont(font_path)\n",
    "\n",
    "plt.rcParams[\"font.family\"] = \"Arial\"\n",
    "plt.rcParams[\"font.size\"] = 10\n",
    "plt.rcParams[\"axes.linewidth\"] = 1.2\n",
    "plt.rcParams[\"xtick.major.width\"] = 1.2\n",
    "plt.rcParams[\"ytick.major.width\"] = 1.2"
   ]
  },
  {
   "cell_type": "code",
   "execution_count": null,
   "metadata": {},
   "outputs": [],
   "source": [
    "active = \"#2ca7c5\"\n",
    "quiescent = \"#ee3233\"\n",
    "\n",
    "active_colors = [\n",
    "    \"#0d323b\",\n",
    "    \"#1e7489\",\n",
    "    \"#2ca7c5\",\n",
    "    \"#80cadc\",\n",
    "    \"#d4edf3\",\n",
    "    \"#ffffff\",\n",
    "    \"#d4edf3\",\n",
    "    \"#80cadc\",\n",
    "    \"#2ca7c5\",\n",
    "    \"#1e7489\",\n",
    "    \"#0d323b\",\n",
    "]\n",
    "lcmap_active = mpl.colors.LinearSegmentedColormap.from_list(\"lcmap_active\", active_colors)\n",
    "norm = mpl.colors.Normalize(vmin=0, vmax=1.5)\n",
    "lcmap_active = mpl.cm.ScalarMappable(norm=norm, cmap=lcmap_active)\n",
    "lcmap_active.set_array([])\n",
    "\n",
    "quiescent_colors = [\n",
    "    \"#470f0f\",\n",
    "    \"#a62323\",\n",
    "    \"#ee3233\",\n",
    "    \"#f48484\",\n",
    "    \"#fbd6d6\",\n",
    "    \"#ffffff\",\n",
    "    \"#fbd6d6\",\n",
    "    \"#f48484\",\n",
    "    \"#ee3233\",\n",
    "    \"#a62323\",\n",
    "    \"#470f0f\",\n",
    "]\n",
    "lcmap_quiescent = mpl.colors.LinearSegmentedColormap.from_list(\"lcmap_quiescent\", quiescent_colors)\n",
    "norm = mpl.colors.Normalize(vmin=0, vmax=1.5)\n",
    "lcmap_quiescent = mpl.cm.ScalarMappable(norm=norm, cmap=lcmap_quiescent)\n",
    "lcmap_quiescent.set_array([])"
   ]
  },
  {
   "cell_type": "markdown",
   "metadata": {},
   "source": [
    "## Load results"
   ]
  },
  {
   "cell_type": "code",
   "execution_count": null,
   "metadata": {},
   "outputs": [],
   "source": [
    "results = pathlib.Path(\"../results\")\n",
    "noise = 0.0001\n",
    "config_name = f\"noisy_unbiased_{noise}\"\n",
    "seed_dirs = [results / \"head_direction\" / f\"{config_name}_{seed}\" for seed in range(5)]\n",
    "figures = results / \"head_direction\" / \"figures\"\n",
    "pathlib.Path.mkdir(figures, exist_ok=True)"
   ]
  },
  {
   "cell_type": "markdown",
   "metadata": {},
   "source": [
    "## Visualizations"
   ]
  },
  {
   "cell_type": "markdown",
   "metadata": {},
   "source": [
    "### Loss"
   ]
  },
  {
   "cell_type": "code",
   "execution_count": null,
   "metadata": {},
   "outputs": [],
   "source": [
    "test_metrics = [json.load(open(d / \"test_metrics.json\", \"r\")) for d in seed_dirs]\n",
    "start, end, skip = 100, 20001, 100\n",
    "test_losses = np.array([[f[str(i)][\"loss\"] for i in range(start, end, skip)] for f in test_metrics])\n",
    "test_posmse = np.array([[f[str(i)][\"pos_mse\"] for i in range(start, end, skip)] for f in test_metrics])"
   ]
  },
  {
   "cell_type": "code",
   "execution_count": null,
   "metadata": {},
   "outputs": [],
   "source": [
    "losses_mean, losses_std = test_losses.mean(axis=0), test_losses.std(axis=0)\n",
    "posmse_mean, posmse_std = test_posmse.mean(axis=0), test_posmse.std(axis=0)"
   ]
  },
  {
   "cell_type": "code",
   "execution_count": null,
   "metadata": {},
   "outputs": [],
   "source": [
    "fig, ax = plt.subplots(figsize=(1.5, 1.5))\n",
    "\n",
    "ax.spines[[\"right\", \"top\"]].set_visible(False)\n",
    "ax.set_box_aspect(1)\n",
    "ax.errorbar(np.arange(start, end, skip), losses_mean, yerr=losses_std, fmt=\"-\", c=\"gray\")\n",
    "ax.set_xlabel(\"batches\")\n",
    "ax.set_ylabel(\"test loss\", color=\"grey\")\n",
    "ax.tick_params(axis=\"both\", which=\"major\", labelsize=8)\n",
    "ax.tick_params(axis=\"both\", which=\"minor\", labelsize=8)\n",
    "ax.yaxis.get_offset_text().set_fontsize(8)\n",
    "\n",
    "ax2 = ax.twinx()\n",
    "ax2.spines[[\"left\", \"top\"]].set_visible(False)\n",
    "ax2.set_box_aspect(1)\n",
    "ax2.errorbar(np.arange(start, end, skip), posmse_mean, yerr=posmse_std, fmt=\"-\", c=\"black\")\n",
    "ax2.set_ylabel(\"bearing decoding error\", color=\"black\")\n",
    "ax2.tick_params(axis=\"both\", which=\"major\", labelsize=8)\n",
    "ax2.tick_params(axis=\"both\", which=\"minor\", labelsize=8)\n",
    "\n",
    "plt.show()"
   ]
  },
  {
   "cell_type": "code",
   "execution_count": null,
   "metadata": {},
   "outputs": [],
   "source": [
    "fig.savefig(figures / f\"{config_name}-loss.pdf\", bbox_inches=\"tight\", pad_inches=0)"
   ]
  },
  {
   "cell_type": "markdown",
   "metadata": {},
   "source": [
    "### Population activity dimensionality (PCs vs cumulative explained variance)"
   ]
  },
  {
   "cell_type": "code",
   "execution_count": null,
   "metadata": {},
   "outputs": [],
   "source": [
    "ev_active = []\n",
    "ev_quiescent = []"
   ]
  },
  {
   "cell_type": "code",
   "execution_count": null,
   "metadata": {},
   "outputs": [],
   "source": [
    "for seed in range(5):\n",
    "    utils.set_random_seeds(seed)\n",
    "\n",
    "    epoch = 20000\n",
    "    model = torch.load(seed_dirs[seed] / f\"model_{epoch}.pt\", map_location=\"cpu\")\n",
    "    model.set_device(\"cpu\")\n",
    "    model.eval()\n",
    "\n",
    "    task = model.task\n",
    "    task.batch_size = 1000\n",
    "\n",
    "    test_data = task.get_test_batch()\n",
    "    t_quiescent = 200\n",
    "    quiescent_inputs = torch.zeros(task.batch_size, t_quiescent, 1)\n",
    "\n",
    "    h_active, _ = model(test_data[\"data\"], test_data[\"init_state\"])\n",
    "    h_active = h_active.cpu().detach().numpy().reshape(-1, model.n_rec)\n",
    "    model.sigma_rec *= np.sqrt(2)\n",
    "    h_quiescent, _ = model(quiescent_inputs, test_data[\"init_state\"])\n",
    "    h_quiescent = h_quiescent.cpu().detach().numpy().reshape(-1, model.n_rec)\n",
    "\n",
    "    pca = PCA()\n",
    "    pca.fit(h_active)\n",
    "    ev_active.append(pca.explained_variance_ratio_)\n",
    "    pca.fit(h_quiescent)\n",
    "    ev_quiescent.append(pca.explained_variance_ratio_)"
   ]
  },
  {
   "cell_type": "code",
   "execution_count": null,
   "metadata": {},
   "outputs": [],
   "source": [
    "ev_active = np.array(ev_active)\n",
    "ev_quiescent = np.array(ev_quiescent)"
   ]
  },
  {
   "cell_type": "code",
   "execution_count": null,
   "metadata": {},
   "outputs": [],
   "source": [
    "fig, ax = plt.subplots(figsize=(1.5, 1.5))\n",
    "ax.spines[[\"right\", \"top\"]].set_visible(False)\n",
    "ax.set_box_aspect(1)\n",
    "\n",
    "ax.errorbar(\n",
    "    np.arange(1, 11),\n",
    "    ev_active.cumsum(axis=-1).mean(axis=0)[:10],\n",
    "    yerr=ev_active.cumsum(axis=-1).std(axis=0)[:10],\n",
    "    fmt=\"-\",\n",
    "    c=active,\n",
    "    label=\"active\",\n",
    ")\n",
    "ax.errorbar(\n",
    "    np.arange(1, 11),\n",
    "    ev_quiescent.cumsum(axis=-1).mean(axis=0)[:10],\n",
    "    yerr=ev_quiescent.cumsum(axis=-1).std(axis=0)[:10],\n",
    "    fmt=\"-\",\n",
    "    c=quiescent,\n",
    "    label=\"quiescent\",\n",
    ")\n",
    "\n",
    "ax.set_xlabel(\"# of PCs\")\n",
    "ax.set_ylabel(\"explained variance\")\n",
    "ax.set_xticks(np.arange(1, 11))\n",
    "ax.set_yticks(np.arange(0.4, 1.0, 0.1))\n",
    "ax.tick_params(axis=\"both\", which=\"major\", labelsize=8)\n",
    "ax.tick_params(axis=\"both\", which=\"minor\", labelsize=8)\n",
    "\n",
    "leg = ax.legend(loc=\"best\", frameon=False)\n",
    "\n",
    "for handle, text in zip(leg.legend_handles, leg.get_texts()):\n",
    "    text.set_color(handle.get_color())\n",
    "    handle.set_visible(False)\n",
    "\n",
    "plt.show()"
   ]
  },
  {
   "cell_type": "code",
   "execution_count": null,
   "metadata": {},
   "outputs": [],
   "source": [
    "fig.savefig(figures / f\"{config_name}-explained_variance.pdf\", bbox_inches=\"tight\", pad_inches=0)"
   ]
  },
  {
   "cell_type": "markdown",
   "metadata": {},
   "source": [
    "### Neural activity PCs"
   ]
  },
  {
   "cell_type": "code",
   "execution_count": null,
   "metadata": {},
   "outputs": [],
   "source": [
    "quiescence = \"scaled\"\n",
    "# One of:\n",
    "#   - \"scaled\" (quiescent_noise = np.sqrt(2) * active_noise)\n",
    "#   - \"same\" (quiescent_noise = active_noise)\n",
    "#   - \"absolute\" (quiescent_noise = np.sqrt(2 * noise) where noise is defined earlier e.g. 0.0001"
   ]
  },
  {
   "cell_type": "code",
   "execution_count": null,
   "metadata": {},
   "outputs": [],
   "source": [
    "seed = 0\n",
    "utils.set_random_seeds(seed)\n",
    "\n",
    "epoch = 20000\n",
    "model = torch.load(seed_dirs[seed] / f\"model_{epoch}.pt\", map_location=\"cpu\")\n",
    "model.set_device(\"cpu\")\n",
    "model.eval()\n",
    "\n",
    "task = model.task\n",
    "task.batch_size = 200\n",
    "\n",
    "test_data = task.get_test_batch()\n",
    "t_quiescent = 1000\n",
    "quiescent_inputs = torch.zeros(task.batch_size, t_quiescent, 1)\n",
    "\n",
    "h_active = model(test_data[\"data\"], test_data[\"init_state\"])\n",
    "\n",
    "if quiescence == \"scaled\":\n",
    "    model.sigma_rec *= np.sqrt(2)\n",
    "elif quiescence == \"absolute\":\n",
    "    model.sigma_rec = np.sqrt(2 * noise)\n",
    "elif quiescence == \"same\":\n",
    "    pass\n",
    "\n",
    "h_quiescent = model(quiescent_inputs, test_data[\"init_state\"])\n",
    "\n",
    "h_active_ = h_active[0].cpu().detach().numpy().reshape(-1, model.n_rec)\n",
    "h_quiescent_ = h_quiescent[0].cpu().detach().numpy().reshape(-1, model.n_rec)\n",
    "\n",
    "pca = PCA()\n",
    "h_active_pca = pca.fit_transform(h_active_)\n",
    "h_quiescent_pca = pca.transform(h_quiescent_)"
   ]
  },
  {
   "cell_type": "code",
   "execution_count": null,
   "metadata": {},
   "outputs": [],
   "source": [
    "active_xy = task.hd_cells.decode_hd(h_active[1])\n",
    "active_d = active_xy.squeeze().cpu().detach().numpy()\n",
    "quiescent_xy = task.hd_cells.decode_hd(h_quiescent[1])\n",
    "quiescent_d = quiescent_xy.squeeze().cpu().detach().numpy()"
   ]
  },
  {
   "cell_type": "code",
   "execution_count": null,
   "metadata": {},
   "outputs": [],
   "source": [
    "fig, ax = plt.subplots(figsize=(7.5, 1.5))\n",
    "ax.set_box_aspect(1)\n",
    "\n",
    "skip_traj = 2\n",
    "shift_time = 7\n",
    "skip_time = 20\n",
    "t_task = task.sequence_length\n",
    "for i in range(0, task.batch_size, skip_traj):\n",
    "    plt.scatter(\n",
    "        h_active_pca[i * t_task + shift_time : (i + 1) * t_task : skip_time, 0],\n",
    "        h_active_pca[i * t_task + shift_time : (i + 1) * t_task : skip_time, 1],\n",
    "        c=lcmap_active.to_rgba(active_d[i, shift_time::skip_time]),\n",
    "    )\n",
    "\n",
    "ax.grid(visible=False)\n",
    "ax.set_xlabel(\"PC-1\")\n",
    "ax.set_ylabel(\"PC-2\")\n",
    "ax.spines[[\"right\", \"top\"]].set_visible(False)\n",
    "ax.tick_params(axis=\"both\", which=\"major\", labelsize=8)\n",
    "ax.tick_params(axis=\"both\", which=\"minor\", labelsize=8)\n",
    "ax.set_xticks([-10, 0, 10])\n",
    "ax.set_yticks([-10, 0, 10])\n",
    "ax.set_xlim(-14, 14)\n",
    "ax.set_ylim(-14, 14)\n",
    "\n",
    "cb = plt.colorbar(mappable=lcmap_active, ax=ax)\n",
    "cb.ax.tick_params(labelsize=8)\n",
    "cb.set_ticks([-np.pi, 0, np.pi], labels=[r\"$-\\pi$\", \"0\", r\"$\\pi$\"])\n",
    "cb.set_label(label=\"bearing\", labelpad=10, fontsize=8)"
   ]
  },
  {
   "cell_type": "code",
   "execution_count": null,
   "metadata": {},
   "outputs": [],
   "source": [
    "fig.savefig(figures / f\"{config_name}_{seed}-pca_active.pdf\", bbox_inches=\"tight\", pad_inches=0)"
   ]
  },
  {
   "cell_type": "code",
   "execution_count": null,
   "metadata": {},
   "outputs": [],
   "source": [
    "fig, ax = plt.subplots(figsize=(7.5, 1.5))\n",
    "ax.set_box_aspect(1)\n",
    "\n",
    "skip_traj = 2\n",
    "shift_time = 7\n",
    "skip_time = 20\n",
    "for i in range(0, task.batch_size, skip_traj):\n",
    "    plt.scatter(\n",
    "        h_quiescent_pca[i * t_quiescent + shift_time : (i + 1) * t_quiescent : skip_time, 0],\n",
    "        h_quiescent_pca[i * t_quiescent + shift_time : (i + 1) * t_quiescent : skip_time, 1],\n",
    "        c=lcmap_quiescent.to_rgba(quiescent_d[i, shift_time::skip_time]),\n",
    "    )\n",
    "\n",
    "ax.grid(visible=False)\n",
    "ax.set_xlabel(\"PC-1\")\n",
    "ax.set_ylabel(\"PC-2\")\n",
    "ax.spines[[\"right\", \"top\"]].set_visible(False)\n",
    "ax.tick_params(axis=\"both\", which=\"major\", labelsize=8)\n",
    "ax.tick_params(axis=\"both\", which=\"minor\", labelsize=8)\n",
    "ax.set_xticks([-10, 0, 10])\n",
    "ax.set_yticks([-10, 0, 10])\n",
    "ax.set_xlim(-14, 14)\n",
    "ax.set_ylim(-14, 14)\n",
    "\n",
    "cb = plt.colorbar(mappable=lcmap_quiescent, ax=ax)\n",
    "cb.ax.tick_params(labelsize=8)\n",
    "cb.ax.yaxis.set_ticks_position(\"left\")\n",
    "cb.set_ticks([-np.pi, 0, np.pi], labels=[r\"$-\\pi$\", \"0\", r\"$\\pi$\"])\n",
    "cb.set_label(label=\"bearing\", labelpad=10, fontsize=8)"
   ]
  },
  {
   "cell_type": "code",
   "execution_count": null,
   "metadata": {},
   "outputs": [],
   "source": [
    "fig.savefig(\n",
    "    figures / f\"{config_name}_{seed}-pca_quiescent_{quiescence}.pdf\", bbox_inches=\"tight\", pad_inches=0\n",
    ")"
   ]
  },
  {
   "cell_type": "markdown",
   "metadata": {},
   "source": [
    "### Histogram of decoded output bearings"
   ]
  },
  {
   "cell_type": "code",
   "execution_count": null,
   "metadata": {},
   "outputs": [],
   "source": [
    "fig, ax = plt.subplots(subplot_kw={\"projection\": \"polar\"}, figsize=(1, 1))\n",
    "\n",
    "bins = 20\n",
    "density = True\n",
    "gaps = True\n",
    "\n",
    "x = active_xy.flatten()\n",
    "\n",
    "if not gaps:\n",
    "    bins = np.linspace(-np.pi, np.pi, num=bins + 1)\n",
    "\n",
    "n, bins = np.histogram(x, bins=bins)\n",
    "widths = np.diff(bins)\n",
    "\n",
    "if density:\n",
    "    area = n / x.size()\n",
    "    radius = (area / np.pi) ** 0.5\n",
    "else:\n",
    "    radius = n\n",
    "\n",
    "patches = ax.bar(\n",
    "    bins[:-1],\n",
    "    radius,\n",
    "    zorder=1,\n",
    "    align=\"edge\",\n",
    "    width=widths,\n",
    "    edgecolor=active,\n",
    "    fill=True,\n",
    "    color=f\"{active}88\",\n",
    "    linewidth=1.2,\n",
    ")\n",
    "\n",
    "ax.set_rmax(2)\n",
    "ax.set_rticks([0.5, 1, 1.5, 2])\n",
    "ax.set_rlabel_position(-22.5)\n",
    "ax.set_rorigin(-0.05)\n",
    "ax.set_theta_offset(0)\n",
    "ax.grid(True)\n",
    "ax.set_xticklabels(\n",
    "    [\n",
    "        \"0\",\n",
    "        r\"$\\frac{\\pi}{4}$\",\n",
    "        r\"$\\frac{\\pi}{2}$\",\n",
    "        r\"$\\frac{3\\pi}{4}$\",\n",
    "        \"$\\pi$\\n$-\\pi$\",\n",
    "        r\"$-\\frac{3\\pi}{4}$\",\n",
    "        r\"-$\\frac{\\pi}{2}$\",\n",
    "        r\"-$\\frac{\\pi}{4}$\",\n",
    "    ]\n",
    ")\n",
    "ax.set_yticks([])\n",
    "ax.tick_params(axis=\"both\", which=\"major\", labelsize=8, pad=0)\n",
    "ax.tick_params(axis=\"both\", which=\"minor\", labelsize=8, pad=0)\n",
    "ax.tick_params(axis=\"x\", which=\"major\", colors=\"k\")"
   ]
  },
  {
   "cell_type": "code",
   "execution_count": null,
   "metadata": {},
   "outputs": [],
   "source": [
    "fig.savefig(figures / f\"{config}_{seed}-outputs_active.pdf\", bbox_inches=\"tight\", pad_inches=0)"
   ]
  },
  {
   "cell_type": "code",
   "execution_count": null,
   "metadata": {},
   "outputs": [],
   "source": [
    "fig, ax = plt.subplots(subplot_kw={\"projection\": \"polar\"}, figsize=(1, 1))\n",
    "\n",
    "bins = 20\n",
    "density = True\n",
    "gaps = True\n",
    "\n",
    "x = quiescent_xy.flatten()\n",
    "\n",
    "if not gaps:\n",
    "    bins = np.linspace(-np.pi, np.pi, num=bins + 1)\n",
    "\n",
    "n, bins = np.histogram(x, bins=bins)\n",
    "widths = np.diff(bins)\n",
    "\n",
    "if density:\n",
    "    area = n / x.size()\n",
    "    radius = (area / np.pi) ** 0.5\n",
    "else:\n",
    "    radius = n\n",
    "\n",
    "patches = ax.bar(\n",
    "    bins[:-1],\n",
    "    radius,\n",
    "    zorder=1,\n",
    "    align=\"edge\",\n",
    "    width=widths,\n",
    "    edgecolor=quiescent,\n",
    "    fill=True,\n",
    "    color=f\"{quiescent}88\",\n",
    "    linewidth=1.2,\n",
    ")\n",
    "\n",
    "ax.set_rmax(2)\n",
    "ax.set_rticks([0.5, 1, 1.5, 2])\n",
    "ax.set_rlabel_position(-22.5)\n",
    "ax.set_rorigin(-0.05)\n",
    "ax.set_theta_offset(0)\n",
    "ax.grid(True)\n",
    "ax.set_xticklabels(\n",
    "    [\n",
    "        \"0\",\n",
    "        r\"$\\frac{\\pi}{4}$\",\n",
    "        r\"$\\frac{\\pi}{2}$\",\n",
    "        r\"$\\frac{3\\pi}{4}$\",\n",
    "        \"$\\pi$\\n$-\\pi$\",\n",
    "        r\"$-\\frac{3\\pi}{4}$\",\n",
    "        r\"-$\\frac{\\pi}{2}$\",\n",
    "        r\"-$\\frac{\\pi}{4}$\",\n",
    "    ]\n",
    ")\n",
    "ax.set_yticks([])\n",
    "ax.tick_params(axis=\"both\", which=\"major\", labelsize=8, pad=0)\n",
    "ax.tick_params(axis=\"both\", which=\"minor\", labelsize=8, pad=0)\n",
    "ax.tick_params(axis=\"x\", which=\"major\", colors=\"k\")"
   ]
  },
  {
   "cell_type": "code",
   "execution_count": null,
   "metadata": {},
   "outputs": [],
   "source": [
    "fig.savefig(\n",
    "    figures / f\"{config}_{seed}-outputs_quiescent-q_{quiescence}.pdf\", bbox_inches=\"tight\", pad_inches=0\n",
    ")"
   ]
  },
  {
   "cell_type": "markdown",
   "metadata": {},
   "source": [
    "### Decoded output trajectories"
   ]
  },
  {
   "cell_type": "code",
   "execution_count": null,
   "metadata": {},
   "outputs": [],
   "source": [
    "fig, ax = plt.subplots(subplot_kw={\"projection\": \"polar\"}, figsize=(1, 1))\n",
    "\n",
    "x = active_d[0][:50]\n",
    "\n",
    "ax.scatter(x[0], [0], c=\"k\", label=\"start\", s=10, zorder=3)\n",
    "ax.scatter(x[-1], [49], c=\"k\", label=\"end\", marker=\"^\", s=10, zorder=3)\n",
    "ax.plot(x, np.arange(50), color=f\"{active}dd\", linewidth=2)\n",
    "\n",
    "ax.set_rmax(2)\n",
    "ax.set_rticks([0.5, 1, 1.5, 2])\n",
    "ax.set_rlabel_position(-22.5)\n",
    "ax.set_rorigin(-0.05)\n",
    "ax.set_theta_offset(0)\n",
    "ax.grid(True)\n",
    "ax.set_xticklabels(\n",
    "    [\n",
    "        \"0\",\n",
    "        r\"$\\frac{\\pi}{4}$\",\n",
    "        r\"$\\frac{\\pi}{2}$\",\n",
    "        r\"$\\frac{3\\pi}{4}$\",\n",
    "        \"$\\pi$\\n$-\\pi$\",\n",
    "        r\"$-\\frac{3\\pi}{4}$\",\n",
    "        r\"-$\\frac{\\pi}{2}$\",\n",
    "        r\"-$\\frac{\\pi}{4}$\",\n",
    "    ]\n",
    ")\n",
    "ax.set_yticks([])\n",
    "ax.tick_params(axis=\"both\", which=\"major\", labelsize=8, pad=0)\n",
    "ax.tick_params(axis=\"both\", which=\"minor\", labelsize=8, pad=0)\n",
    "ax.tick_params(axis=\"x\", which=\"major\", colors=\"k\")"
   ]
  },
  {
   "cell_type": "code",
   "execution_count": null,
   "metadata": {},
   "outputs": [],
   "source": [
    "fig.savefig(figures / f\"{config}_{seed}-trajectory_active.pdf\", bbox_inches=\"tight\", pad_inches=0)"
   ]
  },
  {
   "cell_type": "code",
   "execution_count": null,
   "metadata": {},
   "outputs": [],
   "source": [
    "fig, ax = plt.subplots(subplot_kw={\"projection\": \"polar\"}, figsize=(1, 1))\n",
    "\n",
    "x = quiescent_d[0][:500]\n",
    "\n",
    "ax.scatter(x[0], [0], c=\"k\", label=\"start\", s=10, zorder=3)\n",
    "ax.scatter(x[-1], [499], c=\"k\", label=\"end\", marker=\"^\", s=10, zorder=3)\n",
    "ax.plot(x, np.arange(500), color=f\"{quiescent}dd\", linewidth=2)\n",
    "\n",
    "ax.set_rmax(2)\n",
    "ax.set_rticks([0.5, 1, 1.5, 2])\n",
    "ax.set_rlabel_position(-22.5)\n",
    "ax.set_rorigin(-0.05)\n",
    "ax.set_theta_offset(0)\n",
    "ax.grid(True)\n",
    "ax.set_xticklabels(\n",
    "    [\n",
    "        \"0\",\n",
    "        r\"$\\frac{\\pi}{4}$\",\n",
    "        r\"$\\frac{\\pi}{2}$\",\n",
    "        r\"$\\frac{3\\pi}{4}$\",\n",
    "        \"$\\pi$\\n$-\\pi$\",\n",
    "        r\"$-\\frac{3\\pi}{4}$\",\n",
    "        r\"-$\\frac{\\pi}{2}$\",\n",
    "        r\"-$\\frac{\\pi}{4}$\",\n",
    "    ]\n",
    ")\n",
    "ax.set_yticks([])\n",
    "ax.tick_params(axis=\"both\", which=\"major\", labelsize=8, pad=0)\n",
    "ax.tick_params(axis=\"both\", which=\"minor\", labelsize=8, pad=0)\n",
    "ax.tick_params(axis=\"x\", which=\"major\", colors=\"k\")"
   ]
  },
  {
   "cell_type": "code",
   "execution_count": null,
   "metadata": {},
   "outputs": [],
   "source": [
    "fig.savefig(\n",
    "    figures / f\"{config}_{seed}-trajectory_quiescent-q_{quiescent}.pdf\", bbox_inches=\"tight\", pad_inches=0\n",
    ")"
   ]
  },
  {
   "cell_type": "markdown",
   "metadata": {},
   "source": [
    "### Histogram of angular velocity"
   ]
  },
  {
   "cell_type": "code",
   "execution_count": null,
   "metadata": {},
   "outputs": [],
   "source": [
    "active_d_rescaled = active_d + np.pi\n",
    "quiescent_d_rescaled = quiescent_d + np.pi\n",
    "av_active = (active_d_rescaled[:, 1:] - active_d_rescaled[:, :-1]).flatten()\n",
    "av_quiescent = (quiescent_d_rescaled[:, 1:] - quiescent_d_rescaled[:, :-1]).flatten()"
   ]
  },
  {
   "cell_type": "code",
   "execution_count": null,
   "metadata": {},
   "outputs": [],
   "source": [
    "# Approximate thresholds to deal with sign change\n",
    "av_active[av_active > 1.5 * np.pi] -= 2 * np.pi\n",
    "av_active[av_active < -1.5 * np.pi] += 2 * np.pi\n",
    "av_quiescent[av_quiescent > 1.5 * np.pi] -= 2 * np.pi\n",
    "av_quiescent[av_quiescent < -1.5 * np.pi] += 2 * np.pi"
   ]
  },
  {
   "cell_type": "code",
   "execution_count": null,
   "metadata": {},
   "outputs": [],
   "source": [
    "fig = plt.figure(figsize=(1.5, 1.5))\n",
    "plt.hist(\n",
    "    av_active, bins=np.linspace(-0.5, 0.5, 20), color=active, weights=np.ones(len(av_active)) / len(av_active)\n",
    ")\n",
    "plt.xlabel(\"Angular velocity\")\n",
    "plt.ylabel(\"Proportion\")"
   ]
  },
  {
   "cell_type": "code",
   "execution_count": null,
   "metadata": {},
   "outputs": [],
   "source": [
    "fig.savefig(figures / f\"{config}_{seed}-velocity_active.pdf\", bbox_inches=\"tight\", pad_inches=0)"
   ]
  },
  {
   "cell_type": "code",
   "execution_count": null,
   "metadata": {},
   "outputs": [],
   "source": [
    "fig, ax = plt.subplots(figsize=(1.5, 1.5))\n",
    "plt.hist(\n",
    "    av_quiescent,\n",
    "    bins=np.linspace(-0.2, 0.2, 20),\n",
    "    color=quiescent,\n",
    "    weights=np.ones(len(av_quiescent)) / len(av_quiescent),\n",
    ")\n",
    "ax2 = ax.secondary_xaxis(\"top\")\n",
    "ax2.tick_params(axis=\"x\", length=0)\n",
    "ax2.set_xticks([av_quiescent.mean()], minor=False)\n",
    "plt.axvline(av_quiescent.mean(), c=\"k\", ls=\"--\")\n",
    "plt.xlabel(\"Angular velocity\")\n",
    "plt.ylabel(\"Proportion\")"
   ]
  },
  {
   "cell_type": "code",
   "execution_count": null,
   "metadata": {},
   "outputs": [],
   "source": [
    "fig.savefig(figures / f\"{config}_{seed}-velocity_quiescent-q_{quiescence}\", bbox_inches=\"tight\", pad_inches=0)"
   ]
  }
 ],
 "metadata": {
  "kernelspec": {
   "display_name": "rnn_reactivation",
   "language": "python",
   "name": "rnn_reactivation"
  },
  "language_info": {
   "codemirror_mode": {
    "name": "ipython",
    "version": 3
   },
   "file_extension": ".py",
   "mimetype": "text/x-python",
   "name": "python",
   "nbconvert_exporter": "python",
   "pygments_lexer": "ipython3",
   "version": "3.10.15"
  }
 },
 "nbformat": 4,
 "nbformat_minor": 4
}
